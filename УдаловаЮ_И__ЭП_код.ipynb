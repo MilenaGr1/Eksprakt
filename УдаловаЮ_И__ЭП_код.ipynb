{
  "nbformat": 4,
  "nbformat_minor": 0,
  "metadata": {
    "colab": {
      "provenance": []
    },
    "kernelspec": {
      "name": "python3",
      "display_name": "Python 3"
    },
    "language_info": {
      "name": "python"
    }
  },
  "cells": [
    {
      "cell_type": "code",
      "execution_count": 31,
      "metadata": {
        "id": "tnUz46dQHZVl"
      },
      "outputs": [],
      "source": [
        "import pandas as pd\n",
        "import keras\n",
        "from keras.preprocessing.text import Tokenizer\n",
        "from keras.preprocessing.sequence import pad_sequences\n",
        "from keras.utils import to_categorical\n",
        "from keras.models import Sequential\n",
        "from keras.layers import Dense, Embedding, Flatten\n",
        "from keras.layers import Activation\n",
        "from keras.optimizers import Adam\n",
        "import matplotlib.pyplot as plt\n",
        "import numpy as np\n",
        "from sklearn.metrics import classification_report, confusion_matrix\n",
        "from sklearn.preprocessing import LabelEncoder\n",
        "import tensorflow as tf\n",
        "import pickle\n",
        "import matplotlib.pyplot as plt"
      ]
    },
    {
      "cell_type": "code",
      "source": [
        "# Загрузка данных\n",
        "df = pd.read_csv(\"/content/train.txt\", delimiter=';', header=None, names=['sentence', 'label'])\n",
        "val_df = pd.read_csv(\"/content/val.txt\", delimiter=';', header=None, names=['sentence', 'label'])\n",
        "ts_df = pd.read_csv(\"/content/test.txt\", delimiter=';', header=None, names=['sentence', 'label'])"
      ],
      "metadata": {
        "id": "2QhhP0V6jvG2"
      },
      "execution_count": 32,
      "outputs": []
    },
    {
      "cell_type": "code",
      "source": [
        "# Предварительный анализ данных\n",
        "print(\"Train data:\")\n",
        "print(df.head())\n",
        "print(\"\\nValidation data:\")\n",
        "print(val_df.head())\n",
        "print(\"\\nTest data:\")\n",
        "print(ts_df.head())"
      ],
      "metadata": {
        "id": "HM2_mtydj6bP",
        "colab": {
          "base_uri": "https://localhost:8080/"
        },
        "outputId": "5f4790b9-f0bd-4d8e-8517-254266bd55db"
      },
      "execution_count": 33,
      "outputs": [
        {
          "output_type": "stream",
          "name": "stdout",
          "text": [
            "Train data:\n",
            "                                            sentence    label\n",
            "0                            i didnt feel humiliated  sadness\n",
            "1  i can go from feeling so hopeless to so damned...  sadness\n",
            "2   im grabbing a minute to post i feel greedy wrong    anger\n",
            "3  i am ever feeling nostalgic about the fireplac...     love\n",
            "4                               i am feeling grouchy    anger\n",
            "\n",
            "Validation data:\n",
            "                                            sentence    label\n",
            "0  im feeling quite sad and sorry for myself but ...  sadness\n",
            "1  i feel like i am still looking at a blank canv...  sadness\n",
            "2                     i feel like a faithful servant     love\n",
            "3                  i am just feeling cranky and blue    anger\n",
            "4  i can have for a treat or if i am feeling festive      joy\n",
            "\n",
            "Test data:\n",
            "                                            sentence    label\n",
            "0  im feeling rather rotten so im not very ambiti...  sadness\n",
            "1          im updating my blog because i feel shitty  sadness\n",
            "2  i never make her separate from me because i do...  sadness\n",
            "3  i left with my bouquet of red and yellow tulip...      joy\n",
            "4    i was feeling a little vain when i did this one  sadness\n"
          ]
        }
      ]
    },
    {
      "cell_type": "code",
      "source": [
        "# Объединение всех текстовых данных\n",
        "all_texts = df['sentence'].tolist() + val_df['sentence'].tolist() + ts_df['sentence'].tolist()"
      ],
      "metadata": {
        "id": "3qaoE1q7jwXP"
      },
      "execution_count": 34,
      "outputs": []
    },
    {
      "cell_type": "code",
      "source": [
        "# Определение максимальной длины последовательности\n",
        "maxlen = max([len(text.split()) for text in all_texts])"
      ],
      "metadata": {
        "id": "Bwvzuy4qepod"
      },
      "execution_count": 35,
      "outputs": []
    },
    {
      "cell_type": "code",
      "source": [
        "# Создание объекта Tokenizer и преобразование текста в последовательности\n",
        "tokenizer = Tokenizer()\n",
        "tokenizer.fit_on_texts(all_texts)"
      ],
      "metadata": {
        "id": "cPKCoGwxosKz"
      },
      "execution_count": 36,
      "outputs": []
    },
    {
      "cell_type": "code",
      "source": [
        "# Определение размера словаря\n",
        "vocab_size = len(tokenizer.word_index) + 1  # добавляем 1 для учета паддинга"
      ],
      "metadata": {
        "id": "RGotPSoce2Uc"
      },
      "execution_count": 37,
      "outputs": []
    },
    {
      "cell_type": "code",
      "source": [
        "# Определение размерности эмбеддингов\n",
        "embedding_dim = 100  # Примерное значение, можно изменить"
      ],
      "metadata": {
        "id": "uvpaqqyOiQw2"
      },
      "execution_count": 38,
      "outputs": []
    },
    {
      "cell_type": "code",
      "source": [
        "print(\"Максимальная длина последовательности:\", maxlen)\n",
        "print(\"Размер словаря:\", vocab_size)"
      ],
      "metadata": {
        "id": "ZUYrqqpXqaKe",
        "colab": {
          "base_uri": "https://localhost:8080/"
        },
        "outputId": "6b0c8b57-883e-4ddf-ed2b-1986d260cbbf"
      },
      "execution_count": 39,
      "outputs": [
        {
          "output_type": "stream",
          "name": "stdout",
          "text": [
            "Максимальная длина последовательности: 66\n",
            "Размер словаря: 17097\n"
          ]
        }
      ]
    },
    {
      "cell_type": "code",
      "source": [
        "# Преобразование текстовых данных в числовые последовательности\n",
        "X_train_sequences = tokenizer.texts_to_sequences(df['sentence'])\n",
        "X_val_sequences = tokenizer.texts_to_sequences(val_df['sentence'])\n",
        "X_test_sequences = tokenizer.texts_to_sequences(ts_df['sentence'])"
      ],
      "metadata": {
        "id": "OPkbLBRHrHWG"
      },
      "execution_count": 40,
      "outputs": []
    },
    {
      "cell_type": "code",
      "source": [
        "# Подготовка входных данных путем дополнения последовательностей до одной и той же длины\n",
        "X_train = pad_sequences(X_train_sequences, maxlen=maxlen, padding='post')\n",
        "X_val = pad_sequences(X_val_sequences, maxlen=maxlen, padding='post')\n",
        "X_test = pad_sequences(X_test_sequences, maxlen=maxlen, padding='post')"
      ],
      "metadata": {
        "id": "yVnLhMrJiQ4r"
      },
      "execution_count": 41,
      "outputs": []
    },
    {
      "cell_type": "code",
      "source": [
        "# Кодирование меток классов\n",
        "label_dict = {'joy': 0, 'sadness': 1, 'anger': 2, 'fear': 3, 'love': 4, 'surprise': 5}\n",
        "y_train = to_categorical(df['label'].map(label_dict))\n",
        "y_val = to_categorical(val_df['label'].map(label_dict))\n",
        "y_test = to_categorical(ts_df['label'].map(label_dict))"
      ],
      "metadata": {
        "id": "m1O3qgpwjuX7"
      },
      "execution_count": 42,
      "outputs": []
    },
    {
      "cell_type": "code",
      "source": [
        "# Проверка размерностей данных\n",
        "print(\"Размерность X_train:\", X_train.shape)\n",
        "print(\"Размерность y_train:\", y_train.shape)\n",
        "print(\"Размерность X_val:\", X_val.shape)\n",
        "print(\"Размерность y_val:\", y_val.shape)\n",
        "print(\"Размерность X_test:\", X_test.shape)\n",
        "print(\"Размерность y_test:\", y_test.shape)"
      ],
      "metadata": {
        "id": "QW-3HtOEe2e7",
        "colab": {
          "base_uri": "https://localhost:8080/"
        },
        "outputId": "c12684dd-68c5-4926-b713-4c8745329661"
      },
      "execution_count": 43,
      "outputs": [
        {
          "output_type": "stream",
          "name": "stdout",
          "text": [
            "Размерность X_train: (16000, 66)\n",
            "Размерность y_train: (16000, 6)\n",
            "Размерность X_val: (2000, 66)\n",
            "Размерность y_val: (2000, 6)\n",
            "Размерность X_test: (2000, 66)\n",
            "Размерность y_test: (2000, 6)\n"
          ]
        }
      ]
    },
    {
      "cell_type": "code",
      "source": [
        "# Определение архитектуры сети\n",
        "model = Sequential()\n",
        "model.add(Embedding(input_dim=vocab_size, output_dim=embedding_dim, input_length=maxlen))\n",
        "model.add(Flatten())\n",
        "model.add(Dense(64, activation='relu', kernel_initializer='glorot_uniform'))\n",
        "model.add(Dense(32, activation='relu', kernel_initializer='glorot_uniform'))\n",
        "model.add(Dense(6, activation='softmax', kernel_initializer='glorot_uniform'))"
      ],
      "metadata": {
        "id": "ICvFpTA6nElg"
      },
      "execution_count": 44,
      "outputs": []
    },
    {
      "cell_type": "code",
      "source": [
        "# Компиляция модели (оптимизация и функция потерь)\n",
        "model.compile(optimizer='adam', loss='categorical_crossentropy', metrics=['accuracy'])"
      ],
      "metadata": {
        "id": "R-5PbpzFe2jt"
      },
      "execution_count": 45,
      "outputs": []
    },
    {
      "cell_type": "code",
      "source": [
        "# Вывод информации о модели\n",
        "print(model.summary())"
      ],
      "metadata": {
        "colab": {
          "base_uri": "https://localhost:8080/"
        },
        "id": "ZkyXkUVpKq9f",
        "outputId": "36612fbc-149d-4178-da57-17810123fa75"
      },
      "execution_count": 46,
      "outputs": [
        {
          "output_type": "stream",
          "name": "stdout",
          "text": [
            "Model: \"sequential_1\"\n",
            "_________________________________________________________________\n",
            " Layer (type)                Output Shape              Param #   \n",
            "=================================================================\n",
            " embedding_1 (Embedding)     (None, 66, 100)           1709700   \n",
            "                                                                 \n",
            " flatten_1 (Flatten)         (None, 6600)              0         \n",
            "                                                                 \n",
            " dense_3 (Dense)             (None, 64)                422464    \n",
            "                                                                 \n",
            " dense_4 (Dense)             (None, 32)                2080      \n",
            "                                                                 \n",
            " dense_5 (Dense)             (None, 6)                 198       \n",
            "                                                                 \n",
            "=================================================================\n",
            "Total params: 2134442 (8.14 MB)\n",
            "Trainable params: 2134442 (8.14 MB)\n",
            "Non-trainable params: 0 (0.00 Byte)\n",
            "_________________________________________________________________\n",
            "None\n"
          ]
        }
      ]
    },
    {
      "cell_type": "code",
      "source": [
        "# Определение скорости обучения\n",
        "optimizer = Adam(lr=0.001)"
      ],
      "metadata": {
        "colab": {
          "base_uri": "https://localhost:8080/"
        },
        "id": "gNRjkehBKxlj",
        "outputId": "02cc285d-4195-4c74-b95d-27828f5b12cd"
      },
      "execution_count": 47,
      "outputs": [
        {
          "output_type": "stream",
          "name": "stderr",
          "text": [
            "WARNING:absl:`lr` is deprecated in Keras optimizer, please use `learning_rate` or use the legacy optimizer, e.g.,tf.keras.optimizers.legacy.Adam.\n"
          ]
        }
      ]
    },
    {
      "cell_type": "code",
      "source": [
        "# Компиляция модели с определенной скоростью обучения\n",
        "model.compile(optimizer=optimizer, loss='categorical_crossentropy', metrics=['accuracy'])"
      ],
      "metadata": {
        "id": "k5U69AIrK1fY"
      },
      "execution_count": 48,
      "outputs": []
    },
    {
      "cell_type": "code",
      "source": [
        "# Вывод информации о модели\n",
        "print(model.summary())"
      ],
      "metadata": {
        "colab": {
          "base_uri": "https://localhost:8080/"
        },
        "id": "J072VjiBK29w",
        "outputId": "011563c4-52d9-466b-fae9-b101632eed7b"
      },
      "execution_count": 49,
      "outputs": [
        {
          "output_type": "stream",
          "name": "stdout",
          "text": [
            "Model: \"sequential_1\"\n",
            "_________________________________________________________________\n",
            " Layer (type)                Output Shape              Param #   \n",
            "=================================================================\n",
            " embedding_1 (Embedding)     (None, 66, 100)           1709700   \n",
            "                                                                 \n",
            " flatten_1 (Flatten)         (None, 6600)              0         \n",
            "                                                                 \n",
            " dense_3 (Dense)             (None, 64)                422464    \n",
            "                                                                 \n",
            " dense_4 (Dense)             (None, 32)                2080      \n",
            "                                                                 \n",
            " dense_5 (Dense)             (None, 6)                 198       \n",
            "                                                                 \n",
            "=================================================================\n",
            "Total params: 2134442 (8.14 MB)\n",
            "Trainable params: 2134442 (8.14 MB)\n",
            "Non-trainable params: 0 (0.00 Byte)\n",
            "_________________________________________________________________\n",
            "None\n"
          ]
        }
      ]
    },
    {
      "cell_type": "code",
      "source": [
        "# Обучение модели с использованием метода fit\n",
        "# Оптимизация весов происходит автоматически во время обучения\n",
        "history = model.fit(X_train, y_train, epochs=10, batch_size=32, validation_data=(X_val, y_val))"
      ],
      "metadata": {
        "colab": {
          "base_uri": "https://localhost:8080/"
        },
        "id": "kBC0LhpPK4HZ",
        "outputId": "288170d9-6706-452f-9e3d-1c1bc1a1f4b6"
      },
      "execution_count": 50,
      "outputs": [
        {
          "output_type": "stream",
          "name": "stdout",
          "text": [
            "Epoch 1/10\n",
            "500/500 [==============================] - 24s 45ms/step - loss: 1.3201 - accuracy: 0.4904 - val_loss: 0.7212 - val_accuracy: 0.7705\n",
            "Epoch 2/10\n",
            "500/500 [==============================] - 19s 38ms/step - loss: 0.3426 - accuracy: 0.8886 - val_loss: 0.3840 - val_accuracy: 0.8670\n",
            "Epoch 3/10\n",
            "500/500 [==============================] - 24s 47ms/step - loss: 0.0864 - accuracy: 0.9738 - val_loss: 0.4379 - val_accuracy: 0.8610\n",
            "Epoch 4/10\n",
            "500/500 [==============================] - 24s 49ms/step - loss: 0.0403 - accuracy: 0.9897 - val_loss: 0.4591 - val_accuracy: 0.8660\n",
            "Epoch 5/10\n",
            "500/500 [==============================] - 20s 39ms/step - loss: 0.0237 - accuracy: 0.9934 - val_loss: 0.4943 - val_accuracy: 0.8630\n",
            "Epoch 6/10\n",
            "500/500 [==============================] - 22s 45ms/step - loss: 0.0182 - accuracy: 0.9954 - val_loss: 0.5756 - val_accuracy: 0.8560\n",
            "Epoch 7/10\n",
            "500/500 [==============================] - 20s 41ms/step - loss: 0.0148 - accuracy: 0.9959 - val_loss: 0.6119 - val_accuracy: 0.8520\n",
            "Epoch 8/10\n",
            "500/500 [==============================] - 22s 44ms/step - loss: 0.0138 - accuracy: 0.9959 - val_loss: 0.6675 - val_accuracy: 0.8535\n",
            "Epoch 9/10\n",
            "500/500 [==============================] - 20s 41ms/step - loss: 0.0115 - accuracy: 0.9965 - val_loss: 0.6613 - val_accuracy: 0.8515\n",
            "Epoch 10/10\n",
            "500/500 [==============================] - 21s 43ms/step - loss: 0.0110 - accuracy: 0.9966 - val_loss: 0.6785 - val_accuracy: 0.8545\n"
          ]
        }
      ]
    },
    {
      "cell_type": "code",
      "source": [
        "# Оценка модели на тестовом наборе данных\n",
        "loss, accuracy = model.evaluate(X_test, y_test)\n",
        "print(\"Test Loss:\", loss)\n",
        "print(\"Test Accuracy:\", accuracy)"
      ],
      "metadata": {
        "colab": {
          "base_uri": "https://localhost:8080/"
        },
        "id": "nrgUeFRvK6gY",
        "outputId": "3e80cf46-233d-4cdb-f90b-a89e6194b7f1"
      },
      "execution_count": 51,
      "outputs": [
        {
          "output_type": "stream",
          "name": "stdout",
          "text": [
            "63/63 [==============================] - 0s 5ms/step - loss: 0.8217 - accuracy: 0.8275\n",
            "Test Loss: 0.8217040300369263\n",
            "Test Accuracy: 0.8274999856948853\n"
          ]
        }
      ]
    },
    {
      "cell_type": "code",
      "source": [
        "# Визуализация функции потерь на тренировочном и валидационном наборах данных\n",
        "plt.plot(history.history['loss'], label='Training Loss')\n",
        "plt.plot(history.history['val_loss'], label='Validation Loss')\n",
        "plt.xlabel('Epochs')\n",
        "plt.ylabel('Loss')\n",
        "plt.title('Training and Validation Loss')\n",
        "plt.legend()\n",
        "plt.show()"
      ],
      "metadata": {
        "colab": {
          "base_uri": "https://localhost:8080/",
          "height": 472
        },
        "id": "NXaeXNFtK_rj",
        "outputId": "a059f5e6-2f51-4972-9d4b-11494f0e08d5"
      },
      "execution_count": 52,
      "outputs": [
        {
          "output_type": "display_data",
          "data": {
            "text/plain": [
              "<Figure size 640x480 with 1 Axes>"
            ],
            "image/png": "[encoded data removed]"
          },
          "metadata": {}
        }
      ]
    },
    {
      "cell_type": "code",
      "source": [
        "# Визуализация точности на тренировочном и валидационном наборах данных\n",
        "plt.plot(history.history['accuracy'], label='Training Accuracy')\n",
        "plt.plot(history.history['val_accuracy'], label='Validation Accuracy')\n",
        "plt.xlabel('Epochs')\n",
        "plt.ylabel('Accuracy')\n",
        "plt.title('Training and Validation Accuracy')\n",
        "plt.legend()\n",
        "plt.show()"
      ],
      "metadata": {
        "colab": {
          "base_uri": "https://localhost:8080/",
          "height": 472
        },
        "id": "F04QeEQPLEJ9",
        "outputId": "280f35ec-0b0b-401b-821b-b980eef4318b"
      },
      "execution_count": 53,
      "outputs": [
        {
          "output_type": "display_data",
          "data": {
            "text/plain": [
              "<Figure size 640x480 with 1 Axes>"
            ],
            "image/png": "[encoded data removed]"
          },
          "metadata": {}
        }
      ]
    },
    {
      "cell_type": "code",
      "source": [
        "# Предсказание вероятностей для каждого класса на тестовом наборе данных\n",
        "y_pred_prob = model.predict(X_test)"
      ],
      "metadata": {
        "colab": {
          "base_uri": "https://localhost:8080/"
        },
        "id": "jbUFDdOOLFYf",
        "outputId": "f716c4b5-a4c3-481b-d2b3-9bc0b51b76a3"
      },
      "execution_count": 54,
      "outputs": [
        {
          "output_type": "stream",
          "name": "stdout",
          "text": [
            "63/63 [==============================] - 1s 9ms/step\n"
          ]
        }
      ]
    },
    {
      "cell_type": "code",
      "source": [
        "# Преобразование вероятностей в метки классов\n",
        "y_pred = np.argmax(y_pred_prob, axis=1)"
      ],
      "metadata": {
        "id": "ZGSVK_RuLJpM"
      },
      "execution_count": 55,
      "outputs": []
    },
    {
      "cell_type": "code",
      "source": [
        "# Вывод отчета о классификации и матрицы ошибок\n",
        "print(\"Classification Report:\")\n",
        "print(classification_report(y_test.argmax(axis=1), y_pred))\n",
        "print(\"Confusion Matrix:\")\n",
        "print(confusion_matrix(y_test.argmax(axis=1), y_pred))"
      ],
      "metadata": {
        "colab": {
          "base_uri": "https://localhost:8080/"
        },
        "id": "8pzWZuCILLPQ",
        "outputId": "14a6eab8-60b6-43a1-e4d7-85c56f161d7b"
      },
      "execution_count": 56,
      "outputs": [
        {
          "output_type": "stream",
          "name": "stdout",
          "text": [
            "Classification Report:\n",
            "              precision    recall  f1-score   support\n",
            "\n",
            "           0       0.85      0.90      0.87       695\n",
            "           1       0.86      0.86      0.86       581\n",
            "           2       0.80      0.80      0.80       275\n",
            "           3       0.84      0.71      0.77       224\n",
            "           4       0.73      0.61      0.67       159\n",
            "           5       0.59      0.77      0.67        66\n",
            "\n",
            "    accuracy                           0.83      2000\n",
            "   macro avg       0.78      0.78      0.77      2000\n",
            "weighted avg       0.83      0.83      0.83      2000\n",
            "\n",
            "Confusion Matrix:\n",
            "[[625  18   3   5  32  12]\n",
            " [ 35 502  32   9   2   1]\n",
            " [ 14  28 221  10   0   2]\n",
            " [  4  23  18 159   1  19]\n",
            " [ 49   9   1   1  97   2]\n",
            " [  7   2   1   5   0  51]]\n"
          ]
        }
      ]
    }
  ]
}